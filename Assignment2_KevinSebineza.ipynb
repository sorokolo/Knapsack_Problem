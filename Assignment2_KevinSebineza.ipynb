{
 "cells": [
  {
   "cell_type": "code",
   "execution_count": 1,
   "metadata": {},
   "outputs": [],
   "source": [
    "# Creating python lists with profit and weight values\n",
    "\n",
    "items = ['A', 'B', 'C', 'D', 'E', 'F', 'G']\n",
    "profit = [10, 5, 20, 7, 6, 18, 3]\n",
    "weight = [2, 3, 5, 7, 1, 5, 1]\n",
    "maximum = 16"
   ]
  },
  {
   "cell_type": "code",
   "execution_count": 2,
   "metadata": {},
   "outputs": [],
   "source": [
    "# Implementing a function that measures the profit per weight\n",
    "\n",
    "def getPW(profit, weight):\n",
    "    pw = []\n",
    "    for i in range(len(profit)):\n",
    "        value = profit[i]/weight[i]\n",
    "        pw.append(value)\n",
    "    return pw"
   ]
  },
  {
   "cell_type": "code",
   "execution_count": 3,
   "metadata": {},
   "outputs": [],
   "source": [
    "# Implementing a sorting algorithm\n",
    "\n",
    "def sorting(arr):\n",
    "    for i in range(len(arr)):\n",
    "        for j in range(i+1, len(arr)):\n",
    "            if arr[i] < arr[j]:\n",
    "                temp = arr[i]\n",
    "                arr[i] = arr[j]\n",
    "                arr[j] = temp\n",
    "    return arr    "
   ]
  },
  {
   "cell_type": "code",
   "execution_count": 4,
   "metadata": {},
   "outputs": [],
   "source": [
    "# Implementing a dictionary for easily retrieving weight and profit\n",
    "\n",
    "def getDictionary(items, weight, profit):\n",
    "    dicWeight = {}\n",
    "    dicProfit = {}\n",
    "    pw = getPW(profit, weight)\n",
    "    for i in range (len(weight)):\n",
    "        dicWeight[pw[i]] = weight[i]\n",
    "    for i in range (len(weight)):\n",
    "        dicProfit[pw[i]] = profit[i]\n",
    "    return dicWeight, dicProfit\n"
   ]
  },
  {
   "cell_type": "code",
   "execution_count": 5,
   "metadata": {},
   "outputs": [],
   "source": [
    "# Implementing the function that calculates the maximum profit\n",
    "\n",
    "def MaximumProfit(maximum, weight, items, profit):\n",
    "    \n",
    "    # Get profit per weight\n",
    "    pw = getPW(profit, weight)\n",
    "    \n",
    "    # Creating a dictionary\n",
    "    dic1, dic2 = getDictionary(items, weight, profit)\n",
    "    \n",
    "    # Sorting the profit per weight list\n",
    "    sortedPW = sorting(pw)\n",
    "    \n",
    "    # Getting the index\n",
    "    for i in range(len(pw)):\n",
    "        if (maximum >= 0):\n",
    "            getWeight = dic1.get(sortedPW[i])\n",
    "            if (maximum - getWeight >=0):\n",
    "                maximum = maximum - getWeight\n",
    "                \n",
    "\n",
    "            else:\n",
    "                fractionItem = getWeight\n",
    "                fraction = maximum/getWeight\n",
    "                maximum = maximum - getWeight\n",
    "            \n",
    "    \n",
    "    # Calculating maximum profit\n",
    "    profit = 0\n",
    "    for i in range(len(pw)-1):\n",
    "        getProfit = dic2.get(sortedPW[i])\n",
    "        getWeight = dic1.get(sortedPW[i])\n",
    "        if getWeight != fractionItem:\n",
    "            profit = profit + (1*getProfit)\n",
    "        \n",
    "        else:\n",
    "            profit = profit + (fraction*getProfit)\n",
    "    \n",
    "    return profit"
   ]
  },
  {
   "cell_type": "code",
   "execution_count": 6,
   "metadata": {},
   "outputs": [],
   "source": [
    "profit = MaximumProfit(maximum, weight, items, profit)"
   ]
  },
  {
   "cell_type": "code",
   "execution_count": 7,
   "metadata": {},
   "outputs": [
    {
     "name": "stdout",
     "output_type": "stream",
     "text": [
      "The maximum possible profit is:  60.333333333333336\n"
     ]
    }
   ],
   "source": [
    "print(\"The maximum possible profit is: \",profit)"
   ]
  }
 ],
 "metadata": {
  "kernelspec": {
   "display_name": "Python 3",
   "language": "python",
   "name": "python3"
  },
  "language_info": {
   "codemirror_mode": {
    "name": "ipython",
    "version": 3
   },
   "file_extension": ".py",
   "mimetype": "text/x-python",
   "name": "python",
   "nbconvert_exporter": "python",
   "pygments_lexer": "ipython3",
   "version": "3.7.6"
  }
 },
 "nbformat": 4,
 "nbformat_minor": 4
}
